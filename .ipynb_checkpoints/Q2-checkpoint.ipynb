{
 "cells": [
  {
   "cell_type": "raw",
   "metadata": {},
   "source": [
    "Hello reader.\n",
    "\n",
    "Please run each code block, as some may print plots, trees, and/or explinations"
   ]
  },
  {
   "cell_type": "code",
   "execution_count": 20,
   "metadata": {},
   "outputs": [],
   "source": [
    "import numpy as np\n",
    "\n",
    "# first lets import and format our data\n",
    "\n",
    "# example data\n",
    "my_data = np.genfromtxt('set_a.csv', delimiter = ',')\n",
    "head = ['sepal_length', 'sepal_width', 'petal_length', 'petal_width', 'species']\n",
    "label_dict = { 0.0:  'setosa', 1.0:  'versicolor', 2.0:  'virginica'}"
   ]
  },
  {
   "cell_type": "code",
   "execution_count": 21,
   "metadata": {},
   "outputs": [],
   "source": [
    "# This class will represent the query use to split our data at each node in the tree\n",
    "#  every node should have a different query associated with it\n",
    "class Query:\n",
    "\n",
    "    def __init__(self, feat, val):\n",
    "        self.feat = feat ## a feautre of interset: ex petal color\n",
    "        self.val = val   ## value of the feature o\n",
    "\n",
    "    def match(self, data):\n",
    "        val = data[self.feat]\n",
    "        return val >= self.val\n",
    "    \n",
    "    def __repr__(self):\n",
    "        s = \"Is %s %s %s?\" % (head[self.feat], \">=\", str(self.val))\n",
    "        return s"
   ]
  },
  {
   "cell_type": "code",
   "execution_count": 22,
   "metadata": {},
   "outputs": [
    {
     "name": "stdout",
     "output_type": "stream",
     "text": [
      "Is sepal_width >= 3?\n"
     ]
    }
   ],
   "source": [
    "q = Query(1, 3)\n",
    "print(q)"
   ]
  },
  {
   "cell_type": "code",
   "execution_count": 23,
   "metadata": {},
   "outputs": [],
   "source": [
    "# This function returns a dictionary with species as keys and \n",
    "#   their frequency in the dataset as values\n",
    "def count_vals(data):\n",
    "    count = {}\n",
    "    for point in data:\n",
    "        label = point[-1]\n",
    "        if (label not in count):\n",
    "            count[label] = 0\n",
    "        count[label] += 1\n",
    "    return count"
   ]
  },
  {
   "cell_type": "code",
   "execution_count": 24,
   "metadata": {},
   "outputs": [
    {
     "data": {
      "text/plain": [
       "{2.0: 54, 1.0: 25, 0.0: 21}"
      ]
     },
     "execution_count": 24,
     "metadata": {},
     "output_type": "execute_result"
    }
   ],
   "source": [
    "count_vals(my_data)"
   ]
  },
  {
   "cell_type": "code",
   "execution_count": 25,
   "metadata": {},
   "outputs": [],
   "source": [
    "# This function splits the data based on a query\n",
    "def partition(data, query): \n",
    "    true_points = []\n",
    "    false_points = []\n",
    "    for point in data:\n",
    "        if (query.match(point)):\n",
    "            true_points.append(point)\n",
    "        else:\n",
    "            false_points.append(point)\n",
    "    return true_points, false_points"
   ]
  },
  {
   "cell_type": "code",
   "execution_count": 26,
   "metadata": {},
   "outputs": [
    {
     "name": "stdout",
     "output_type": "stream",
     "text": [
      "Is sepal_width >= 3?\n"
     ]
    }
   ],
   "source": [
    "t, f = partition(my_data, q)\n",
    "print(q)"
   ]
  },
  {
   "cell_type": "code",
   "execution_count": 27,
   "metadata": {},
   "outputs": [
    {
     "data": {
      "text/plain": [
       "[array([7.3, 3.3, 6.6, 1.1, 2. ]),\n",
       " array([7.7, 3.9, 6.7, 1.6, 2. ]),\n",
       " array([4.8, 4.2, 4.2, 0.7, 1. ]),\n",
       " array([5.6, 4.3, 1.3, 0.3, 2. ]),\n",
       " array([4.8, 3.1, 1.8, 0.7, 2. ]),\n",
       " array([5.5, 3.1, 5. , 2.3, 2. ]),\n",
       " array([7.4, 3.3, 2.3, 0.1, 0. ]),\n",
       " array([4.4, 4. , 6.6, 0.2, 2. ]),\n",
       " array([4.6, 3.3, 1.5, 0.7, 0. ]),\n",
       " array([4.6, 3.8, 1.3, 0.8, 0. ]),\n",
       " array([5.6, 3.5, 5. , 2.5, 2. ]),\n",
       " array([5.8, 3.1, 6.8, 0.6, 2. ]),\n",
       " array([6.8, 3.5, 6. , 0.3, 2. ]),\n",
       " array([6.9, 3.9, 6.4, 0.7, 2. ]),\n",
       " array([5.3, 4. , 4.7, 1.6, 1. ]),\n",
       " array([7.3, 4.2, 3.5, 1.2, 1. ]),\n",
       " array([6.4, 4.1, 2.5, 0.8, 1. ]),\n",
       " array([5.7, 4.4, 6.6, 0.9, 2. ]),\n",
       " array([4.5, 4.4, 5.4, 0.1, 2. ]),\n",
       " array([7.5, 3.4, 4.9, 2.5, 2. ]),\n",
       " array([5.2, 3.9, 4.3, 1.2, 1. ]),\n",
       " array([6. , 3.3, 5.2, 2. , 2. ]),\n",
       " array([7.1, 4. , 2.4, 1.8, 0. ]),\n",
       " array([5.1, 4. , 1.8, 0.8, 0. ]),\n",
       " array([6.5, 4. , 5.9, 2.3, 1. ]),\n",
       " array([6.2, 3. , 3.5, 2.4, 2. ]),\n",
       " array([7.6, 3.5, 5.2, 1.6, 2. ]),\n",
       " array([5.1, 3. , 1.6, 1.5, 0. ]),\n",
       " array([4.9, 3. , 5.6, 1.8, 2. ]),\n",
       " array([6.2, 4. , 1.8, 2. , 0. ]),\n",
       " array([6.1, 3.2, 4.2, 1.9, 2. ]),\n",
       " array([7.8, 4.2, 5.3, 1.9, 2. ]),\n",
       " array([7.5, 4.2, 2.9, 1.8, 2. ]),\n",
       " array([7.7, 3.1, 5.3, 0.3, 2. ]),\n",
       " array([4.8, 3.6, 6.8, 1.1, 2. ]),\n",
       " array([4.4, 4.1, 3.4, 1.8, 1. ]),\n",
       " array([5.5, 4.3, 1.8, 0.3, 0. ]),\n",
       " array([6.8, 3. , 2.8, 0.3, 1. ]),\n",
       " array([4.6, 3.3, 5.2, 0.3, 2. ]),\n",
       " array([7.1, 3.2, 2.6, 2.4, 2. ]),\n",
       " array([7.2, 3.3, 1.2, 2. , 0. ]),\n",
       " array([5.5, 3. , 4.5, 1.2, 1. ]),\n",
       " array([6. , 3.9, 3.9, 1.8, 2. ]),\n",
       " array([6.8, 3. , 1.9, 2.2, 0. ]),\n",
       " array([6.8, 3.7, 3.9, 1.8, 2. ]),\n",
       " array([6.9, 3.3, 1.5, 1.5, 2. ]),\n",
       " array([4.9, 3.5, 3.6, 1.6, 1. ]),\n",
       " array([5.1, 4.3, 1.3, 1.2, 0. ]),\n",
       " array([5.5, 4.3, 1.8, 0.6, 0. ]),\n",
       " array([6.1, 4.3, 6.5, 1.9, 2. ]),\n",
       " array([5.8, 4.1, 4.5, 0.1, 1. ]),\n",
       " array([4.9, 4.4, 4.9, 1.9, 2. ]),\n",
       " array([5.4, 4.1, 1.1, 0.8, 2. ]),\n",
       " array([6.4, 3.6, 3. , 2.2, 2. ]),\n",
       " array([5. , 4. , 4.4, 2.5, 1. ]),\n",
       " array([6.1, 4.3, 2.7, 1.7, 2. ]),\n",
       " array([7.5, 3.9, 1.6, 0.8, 0. ]),\n",
       " array([4.6, 3.1, 6. , 1.8, 2. ]),\n",
       " array([7.2, 3.8, 3.2, 0.4, 1. ]),\n",
       " array([7.5, 3.2, 4.3, 1.6, 1. ]),\n",
       " array([6. , 4.1, 4. , 2. , 2. ]),\n",
       " array([6.3, 3.2, 4.6, 2.4, 2. ]),\n",
       " array([5.3, 4.3, 1.9, 1.6, 0. ]),\n",
       " array([6.6, 3.7, 2.7, 2.5, 2. ]),\n",
       " array([7.3, 4.3, 5.9, 2.1, 2. ]),\n",
       " array([7.2, 3.1, 3. , 0.3, 1. ]),\n",
       " array([7.7, 3.8, 3.5, 2.4, 2. ]),\n",
       " array([6.2, 3.6, 1.4, 2.4, 0. ]),\n",
       " array([6.4, 3.4, 1.4, 1. , 0. ]),\n",
       " array([4.9, 3. , 2. , 1.5, 0. ]),\n",
       " array([5. , 3.2, 4.3, 0.9, 1. ]),\n",
       " array([5.4, 3.7, 6. , 0.9, 2. ]),\n",
       " array([5.2, 3.9, 2.2, 2.3, 2. ])]"
      ]
     },
     "execution_count": 27,
     "metadata": {},
     "output_type": "execute_result"
    }
   ],
   "source": [
    "t ## i.e. the data set such that q is true"
   ]
  },
  {
   "cell_type": "code",
   "execution_count": 32,
   "metadata": {},
   "outputs": [],
   "source": [
    "import math as ma\n",
    "\n",
    "# calculate entropy of a dataset\n",
    "def entropy(data):\n",
    "    c = count_vals(data)\n",
    "    entropy = 0.0\n",
    "    #For every class label \"x\" calculate the probability p(x)\n",
    "    for item in c:\n",
    "        prob = float(c[item])/len(data) \n",
    "        entropy -= prob * ma.log(prob,2) \n",
    "    return entropy"
   ]
  },
  {
   "cell_type": "code",
   "execution_count": 33,
   "metadata": {},
   "outputs": [
    {
     "data": {
      "text/plain": [
       "1.452866232379231"
      ]
     },
     "execution_count": 33,
     "metadata": {},
     "output_type": "execute_result"
    }
   ],
   "source": [
    "entropy(my_data)"
   ]
  },
  {
   "cell_type": "code",
   "execution_count": 34,
   "metadata": {},
   "outputs": [],
   "source": [
    "# calculate information gain of a data and a split of the data\n",
    "def info_gain(curr, left, right):\n",
    "    num = float(len(left))\n",
    "    den = num + float(len(right))\n",
    "    prob = num/den\n",
    "    a = prob * entropy(left)\n",
    "    b = (1 - prob) * entropy(right)\n",
    "    return curr - (a + b)"
   ]
  },
  {
   "cell_type": "code",
   "execution_count": 35,
   "metadata": {},
   "outputs": [],
   "source": [
    "# chooses the split witht the highest information gain\n",
    "def best_split(data):\n",
    "    max_gain = 0\n",
    "    best_query = None\n",
    "    curr = entropy(data)\n",
    "    n = len(data[0])-1\n",
    "    for i in range(n):\n",
    "        vals = set([point[i] for point in data])\n",
    "        for val in vals:\n",
    "            q = Query(i, val)\n",
    "            t, f = partition(data, q)\n",
    "            if (not(len(t) == 0 or len(f) == 0)):\n",
    "                # if ^ is false, then there is no info gain, so juet move on\n",
    "                gain = info_gain(curr, t, f)\n",
    "                if (gain >= max_gain):\n",
    "                    max_gain, best_query = gain, q     \n",
    "    return max_gain, best_query"
   ]
  },
  {
   "cell_type": "code",
   "execution_count": 36,
   "metadata": {},
   "outputs": [
    {
     "name": "stdout",
     "output_type": "stream",
     "text": [
      "Is petal_length >= 2.5?\n",
      "0.5129420618456131\n"
     ]
    }
   ],
   "source": [
    "gain, query = best_split(my_data)\n",
    "print(query)\n",
    "print(gain)"
   ]
  },
  {
   "cell_type": "code",
   "execution_count": 37,
   "metadata": {},
   "outputs": [],
   "source": [
    "# This class will be an internal node for the disiscion tree\n",
    "class Node:\n",
    "    def __init__(self, q, t, f):\n",
    "        self.query = q\n",
    "        self.true_branch = t\n",
    "        self.false_branch = f\n",
    "\n",
    "# This class will be a leaf node for the disiscion tree\n",
    "class Leaf:\n",
    "    def __init__(self, data):\n",
    "        d = count_vals(data)\n",
    "        for i in range(3):\n",
    "            old_key = float(i)\n",
    "            if(old_key in d):\n",
    "                new_key = label_dict[i]\n",
    "                d[new_key] = d.pop(old_key)\n",
    "        self.predictions = d\n",
    "        # predictions ios a dictionary.  Ideally, this should have one item in the dict.\n",
    "        #  it should have a key = one of the flowers and a val, the number of flowers in the set\n",
    "        # When the length oif the dict is 1, we predict this flower.\n",
    "        #  if the length of the dict is greater than 1, we will predict the flower with the most votres"
   ]
  },
  {
   "cell_type": "code",
   "execution_count": 38,
   "metadata": {},
   "outputs": [],
   "source": [
    "def ID3(data):\n",
    "    gain, query = best_split(data)\n",
    "    if (gain == 0):\n",
    "        return Leaf(data)\n",
    "    t, f = partition(data, query)\n",
    "    true_branch = ID3(t)\n",
    "    false_branch = ID3(f)\n",
    "    return Node(query, true_branch, false_branch)"
   ]
  },
  {
   "cell_type": "code",
   "execution_count": 39,
   "metadata": {},
   "outputs": [],
   "source": [
    "tree = ID3(my_data)"
   ]
  },
  {
   "cell_type": "code",
   "execution_count": 40,
   "metadata": {},
   "outputs": [],
   "source": [
    "def tree_print(n, ind = \"\"):\n",
    "    if isinstance(n, Leaf):\n",
    "        print(ind + \"Predictions:\", n.predictions)\n",
    "        return \n",
    "    print(ind + str(n.query))\n",
    "    print(ind + \"True Branch\")\n",
    "    tree_print(n.true_branch, ind + \"\\t\")\n",
    "    print(ind + \"False Branch\")\n",
    "    tree_print(n.false_branch, ind + \"\\t\")"
   ]
  },
  {
   "cell_type": "code",
   "execution_count": 41,
   "metadata": {},
   "outputs": [
    {
     "name": "stdout",
     "output_type": "stream",
     "text": [
      "Is petal_length >= 2.5?\n",
      "True Branch\n",
      "\tIs petal_length >= 4.6?\n",
      "\tTrue Branch\n",
      "\t\tIs sepal_length >= 6.8?\n",
      "\t\tTrue Branch\n",
      "\t\t\tIs petal_width >= 1.1?\n",
      "\t\t\tTrue Branch\n",
      "\t\t\t\tPredictions: {'virginica': 11}\n",
      "\t\t\tFalse Branch\n",
      "\t\t\t\tIs petal_width >= 1.0?\n",
      "\t\t\t\tTrue Branch\n",
      "\t\t\t\t\tPredictions: {'setosa': 1}\n",
      "\t\t\t\tFalse Branch\n",
      "\t\t\t\t\tPredictions: {'virginica': 4}\n",
      "\t\tFalse Branch\n",
      "\t\t\tIs sepal_length >= 6.4?\n",
      "\t\t\tTrue Branch\n",
      "\t\t\t\tPredictions: {'versicolor': 2}\n",
      "\t\t\tFalse Branch\n",
      "\t\t\t\tIs petal_length >= 4.9?\n",
      "\t\t\t\tTrue Branch\n",
      "\t\t\t\t\tIs sepal_width >= 2.2?\n",
      "\t\t\t\t\tTrue Branch\n",
      "\t\t\t\t\t\tPredictions: {'virginica': 18}\n",
      "\t\t\t\t\tFalse Branch\n",
      "\t\t\t\t\t\tIs petal_length >= 6.5?\n",
      "\t\t\t\t\t\tTrue Branch\n",
      "\t\t\t\t\t\t\tPredictions: {'versicolor': 1}\n",
      "\t\t\t\t\t\tFalse Branch\n",
      "\t\t\t\t\t\t\tPredictions: {'virginica': 2}\n",
      "\t\t\t\tFalse Branch\n",
      "\t\t\t\t\tIs petal_width >= 2.4?\n",
      "\t\t\t\t\tTrue Branch\n",
      "\t\t\t\t\t\tPredictions: {'virginica': 1}\n",
      "\t\t\t\t\tFalse Branch\n",
      "\t\t\t\t\t\tPredictions: {'versicolor': 1}\n",
      "\tFalse Branch\n",
      "\t\tIs petal_width >= 1.7?\n",
      "\t\tTrue Branch\n",
      "\t\t\tIs sepal_length >= 6.0?\n",
      "\t\t\tTrue Branch\n",
      "\t\t\t\tPredictions: {'virginica': 13}\n",
      "\t\t\tFalse Branch\n",
      "\t\t\t\tPredictions: {'versicolor': 4}\n",
      "\t\tFalse Branch\n",
      "\t\t\tPredictions: {'versicolor': 17}\n",
      "False Branch\n",
      "\tIs sepal_width >= 3.1?\n",
      "\tTrue Branch\n",
      "\t\tIs petal_length >= 1.2?\n",
      "\t\tTrue Branch\n",
      "\t\t\tIs sepal_width >= 3.3?\n",
      "\t\t\tTrue Branch\n",
      "\t\t\t\tIs sepal_length >= 5.2?\n",
      "\t\t\t\tTrue Branch\n",
      "\t\t\t\t\tIs sepal_length >= 5.3?\n",
      "\t\t\t\t\tTrue Branch\n",
      "\t\t\t\t\t\tIs petal_length >= 1.6?\n",
      "\t\t\t\t\t\tTrue Branch\n",
      "\t\t\t\t\t\t\tPredictions: {'setosa': 7}\n",
      "\t\t\t\t\t\tFalse Branch\n",
      "\t\t\t\t\t\t\tIs petal_width >= 2.0?\n",
      "\t\t\t\t\t\t\tTrue Branch\n",
      "\t\t\t\t\t\t\t\tPredictions: {'setosa': 2}\n",
      "\t\t\t\t\t\t\tFalse Branch\n",
      "\t\t\t\t\t\t\t\tIs petal_width >= 1.0?\n",
      "\t\t\t\t\t\t\t\tTrue Branch\n",
      "\t\t\t\t\t\t\t\t\tIs petal_width >= 1.5?\n",
      "\t\t\t\t\t\t\t\t\tTrue Branch\n",
      "\t\t\t\t\t\t\t\t\t\tPredictions: {'virginica': 1}\n",
      "\t\t\t\t\t\t\t\t\tFalse Branch\n",
      "\t\t\t\t\t\t\t\t\t\tPredictions: {'setosa': 1}\n",
      "\t\t\t\t\t\t\t\tFalse Branch\n",
      "\t\t\t\t\t\t\t\t\tPredictions: {'virginica': 1}\n",
      "\t\t\t\t\tFalse Branch\n",
      "\t\t\t\t\t\tPredictions: {'virginica': 1}\n",
      "\t\t\t\tFalse Branch\n",
      "\t\t\t\t\tPredictions: {'setosa': 4}\n",
      "\t\t\tFalse Branch\n",
      "\t\t\t\tPredictions: {'virginica': 1}\n",
      "\t\tFalse Branch\n",
      "\t\t\tPredictions: {'virginica': 1}\n",
      "\tFalse Branch\n",
      "\t\tPredictions: {'setosa': 6}\n"
     ]
    }
   ],
   "source": [
    "# Q1 Ans\n",
    "tree_print(tree)"
   ]
  },
  {
   "cell_type": "raw",
   "metadata": {},
   "source": [
    "reading the tree above, at each leaf, the dictionary is of size one.  This means that the desision tree predicts only one flower.  I.e e are 100 percent on the training set.  To test this consider the below functions and tests"
   ]
  },
  {
   "cell_type": "code",
   "execution_count": 42,
   "metadata": {},
   "outputs": [],
   "source": [
    "# this function will return true if a given tree correcty labels a point, \n",
    "#   and false otherwise\n",
    "def score_point(node, point):\n",
    "    if(isinstance(node, Leaf)):\n",
    "        d = node.predictions\n",
    "        if(d == {}):\n",
    "            print(\"something went wrong\")\n",
    "            return\n",
    "        max_key = \"\"\n",
    "        max_val = 0\n",
    "        for item in d:\n",
    "            if(d[item] > max_val):\n",
    "                max_val = d[item]\n",
    "                max_key = item\n",
    "        return max_key == label_dict[point[-1]]\n",
    "    \n",
    "    q = node.query\n",
    "    if(point[q.feat] >= q.val):\n",
    "        return score_point(node.true_branch, point)\n",
    "    else:\n",
    "        return score_point(node.false_branch, point)\n",
    "\n",
    "# runs score_point on many points and returns the percentager of correct awnsers\n",
    "def score_points(tree, points):\n",
    "    total = 0\n",
    "    score = 0\n",
    "    for point in points:\n",
    "        if(score_point(tree, point)):\n",
    "            score += 1\n",
    "        total += 1\n",
    "    return score/total\n",
    "\n"
   ]
  },
  {
   "cell_type": "code",
   "execution_count": 43,
   "metadata": {},
   "outputs": [
    {
     "data": {
      "text/plain": [
       "True"
      ]
     },
     "execution_count": 43,
     "metadata": {},
     "output_type": "execute_result"
    }
   ],
   "source": [
    "score_point(tree, [5.4, 4.1, 1.1, 0.8, 2. ])"
   ]
  },
  {
   "cell_type": "code",
   "execution_count": 44,
   "metadata": {},
   "outputs": [
    {
     "data": {
      "text/plain": [
       "False"
      ]
     },
     "execution_count": 44,
     "metadata": {},
     "output_type": "execute_result"
    }
   ],
   "source": [
    "score_point(tree, [5.4, 4.1, 1.1, 0.8, 1. ])"
   ]
  },
  {
   "cell_type": "code",
   "execution_count": 45,
   "metadata": {},
   "outputs": [
    {
     "data": {
      "text/plain": [
       "0.5"
      ]
     },
     "execution_count": 45,
     "metadata": {},
     "output_type": "execute_result"
    }
   ],
   "source": [
    "score_points(tree, [[5.4, 4.1, 1.1, 0.8, 1. ], [5.4, 4.1, 1.1, 0.8, 2. ]])"
   ]
  },
  {
   "cell_type": "code",
   "execution_count": 46,
   "metadata": {},
   "outputs": [],
   "source": [
    "# we are adding a max depth parameter to imporve trainng speed,\n",
    "#   and in some cases reduce overfitting\n",
    "def ID3_mod(data, max_depth):\n",
    "    gain, query = best_split(data)\n",
    "    if (gain == 0 or max_depth == 0):\n",
    "        return Leaf(data)\n",
    "    \n",
    "    t, f = partition(data, query)\n",
    "\n",
    "    true_branch = ID3_mod(t, max_depth - 1)\n",
    "    false_branch = ID3_mod(f, max_depth - 1)\n",
    "\n",
    "    return Node(query, true_branch, false_branch)"
   ]
  },
  {
   "cell_type": "code",
   "execution_count": 47,
   "metadata": {},
   "outputs": [
    {
     "name": "stdout",
     "output_type": "stream",
     "text": [
      "Is petal_length >= 2.5?\n",
      "True Branch\n",
      "\tIs petal_length >= 4.6?\n",
      "\tTrue Branch\n",
      "\t\tIs sepal_length >= 6.8?\n",
      "\t\tTrue Branch\n",
      "\t\t\tIs petal_width >= 1.1?\n",
      "\t\t\tTrue Branch\n",
      "\t\t\t\tPredictions: {'virginica': 11}\n",
      "\t\t\tFalse Branch\n",
      "\t\t\t\tPredictions: {'setosa': 1, 'virginica': 4}\n",
      "\t\tFalse Branch\n",
      "\t\t\tIs sepal_length >= 6.4?\n",
      "\t\t\tTrue Branch\n",
      "\t\t\t\tPredictions: {'versicolor': 2}\n",
      "\t\t\tFalse Branch\n",
      "\t\t\t\tPredictions: {'versicolor': 2, 'virginica': 21}\n",
      "\tFalse Branch\n",
      "\t\tIs petal_width >= 1.7?\n",
      "\t\tTrue Branch\n",
      "\t\t\tIs sepal_length >= 6.0?\n",
      "\t\t\tTrue Branch\n",
      "\t\t\t\tPredictions: {'virginica': 13}\n",
      "\t\t\tFalse Branch\n",
      "\t\t\t\tPredictions: {'versicolor': 4}\n",
      "\t\tFalse Branch\n",
      "\t\t\tPredictions: {'versicolor': 17}\n",
      "False Branch\n",
      "\tIs sepal_width >= 3.1?\n",
      "\tTrue Branch\n",
      "\t\tIs petal_length >= 1.2?\n",
      "\t\tTrue Branch\n",
      "\t\t\tIs sepal_width >= 3.3?\n",
      "\t\t\tTrue Branch\n",
      "\t\t\t\tPredictions: {'setosa': 14, 'virginica': 3}\n",
      "\t\t\tFalse Branch\n",
      "\t\t\t\tPredictions: {'virginica': 1}\n",
      "\t\tFalse Branch\n",
      "\t\t\tPredictions: {'virginica': 1}\n",
      "\tFalse Branch\n",
      "\t\tPredictions: {'setosa': 6}\n"
     ]
    }
   ],
   "source": [
    "t = ID3_mod(my_data, 4)\n",
    "tree_print(t)"
   ]
  },
  {
   "cell_type": "raw",
   "metadata": {},
   "source": [
    "Notice here, some of the prediction dictionaires have more then one item.  This means that at this node, the tree still has not queried enough to decide for ceartian what the item is."
   ]
  },
  {
   "cell_type": "code",
   "execution_count": 24,
   "metadata": {},
   "outputs": [],
   "source": [
    "# this function will take in a tree and checks if it each leaf, it makes one guess \n",
    "#  with ceartianty in this case return true, else return false\n",
    "\n",
    "def is_complete(n):\n",
    "    if (isinstance(n, Leaf)):\n",
    "        if(len(n.predictions) > 1):\n",
    "            return False\n",
    "        elif (len(n.predictions) == 1):\n",
    "            return True\n",
    "        else:\n",
    "            print(\"Something went wrong\")\n",
    "            return 123\n",
    "    return is_complete(n.true_branch) and is_complete(n.false_branch)"
   ]
  },
  {
   "cell_type": "code",
   "execution_count": 25,
   "metadata": {},
   "outputs": [],
   "source": [
    "# here we are going to run ID3_mod with i = 0,1,2... until we get a tree that is 100 percent accurate\n",
    "\n",
    "def get_highest_depth(data):   # lol this is an oxy moron XD   \n",
    "    i = 0\n",
    "    while(True):\n",
    "        print(\"Tree \" + str(i) + \":\\n\")\n",
    "        t = ID3_mod(data, i)\n",
    "        tree_print(t)\n",
    "        print()\n",
    "        if(is_complete(t)):\n",
    "            print(\"Tree \" + str(i) + \" has a max depth of \" + str(i) + \n",
    "                  \" and was the first tree to accuratley classify dataset A with 100% accuracy\")\n",
    "            return i\n",
    "        i += 1\n",
    "    \n",
    "    # when we are out of the loop, trees[i] = ID3(my_data, i)\n",
    "# for later convience\n",
    "def get_highest_depth_no_print(data):   # lol this is an oxy moron XD   \n",
    "    i = 0\n",
    "    while(True):\n",
    "        t = ID3_mod(data, i)\n",
    "        if(is_complete(t)):\n",
    "            return i\n",
    "        i += 1"
   ]
  },
  {
   "cell_type": "code",
   "execution_count": 26,
   "metadata": {},
   "outputs": [
    {
     "name": "stdout",
     "output_type": "stream",
     "text": [
      "Tree 0:\n",
      "\n",
      "Predictions: {'setosa': 21, 'versicolor': 25, 'virginica': 54}\n",
      "\n",
      "Tree 1:\n",
      "\n",
      "Is petal_length >= 2.5?\n",
      "True Branch\n",
      "\tPredictions: {'setosa': 1, 'versicolor': 25, 'virginica': 49}\n",
      "False Branch\n",
      "\tPredictions: {'setosa': 20, 'virginica': 5}\n",
      "\n",
      "Tree 2:\n",
      "\n",
      "Is petal_length >= 2.5?\n",
      "True Branch\n",
      "\tIs petal_length >= 4.6?\n",
      "\tTrue Branch\n",
      "\t\tPredictions: {'setosa': 1, 'versicolor': 4, 'virginica': 36}\n",
      "\tFalse Branch\n",
      "\t\tPredictions: {'versicolor': 21, 'virginica': 13}\n",
      "False Branch\n",
      "\tIs sepal_width >= 3.1?\n",
      "\tTrue Branch\n",
      "\t\tPredictions: {'setosa': 14, 'virginica': 5}\n",
      "\tFalse Branch\n",
      "\t\tPredictions: {'setosa': 6}\n",
      "\n",
      "Tree 3:\n",
      "\n",
      "Is petal_length >= 2.5?\n",
      "True Branch\n",
      "\tIs petal_length >= 4.6?\n",
      "\tTrue Branch\n",
      "\t\tIs sepal_length >= 6.8?\n",
      "\t\tTrue Branch\n",
      "\t\t\tPredictions: {'setosa': 1, 'virginica': 15}\n",
      "\t\tFalse Branch\n",
      "\t\t\tPredictions: {'versicolor': 4, 'virginica': 21}\n",
      "\tFalse Branch\n",
      "\t\tIs petal_width >= 1.7?\n",
      "\t\tTrue Branch\n",
      "\t\t\tPredictions: {'versicolor': 4, 'virginica': 13}\n",
      "\t\tFalse Branch\n",
      "\t\t\tPredictions: {'versicolor': 17}\n",
      "False Branch\n",
      "\tIs sepal_width >= 3.1?\n",
      "\tTrue Branch\n",
      "\t\tIs petal_length >= 1.2?\n",
      "\t\tTrue Branch\n",
      "\t\t\tPredictions: {'setosa': 14, 'virginica': 4}\n",
      "\t\tFalse Branch\n",
      "\t\t\tPredictions: {'virginica': 1}\n",
      "\tFalse Branch\n",
      "\t\tPredictions: {'setosa': 6}\n",
      "\n",
      "Tree 4:\n",
      "\n",
      "Is petal_length >= 2.5?\n",
      "True Branch\n",
      "\tIs petal_length >= 4.6?\n",
      "\tTrue Branch\n",
      "\t\tIs sepal_length >= 6.8?\n",
      "\t\tTrue Branch\n",
      "\t\t\tIs petal_width >= 1.1?\n",
      "\t\t\tTrue Branch\n",
      "\t\t\t\tPredictions: {'virginica': 11}\n",
      "\t\t\tFalse Branch\n",
      "\t\t\t\tPredictions: {'setosa': 1, 'virginica': 4}\n",
      "\t\tFalse Branch\n",
      "\t\t\tIs sepal_length >= 6.4?\n",
      "\t\t\tTrue Branch\n",
      "\t\t\t\tPredictions: {'versicolor': 2}\n",
      "\t\t\tFalse Branch\n",
      "\t\t\t\tPredictions: {'versicolor': 2, 'virginica': 21}\n",
      "\tFalse Branch\n",
      "\t\tIs petal_width >= 1.7?\n",
      "\t\tTrue Branch\n",
      "\t\t\tIs sepal_length >= 6.0?\n",
      "\t\t\tTrue Branch\n",
      "\t\t\t\tPredictions: {'virginica': 13}\n",
      "\t\t\tFalse Branch\n",
      "\t\t\t\tPredictions: {'versicolor': 4}\n",
      "\t\tFalse Branch\n",
      "\t\t\tPredictions: {'versicolor': 17}\n",
      "False Branch\n",
      "\tIs sepal_width >= 3.1?\n",
      "\tTrue Branch\n",
      "\t\tIs petal_length >= 1.2?\n",
      "\t\tTrue Branch\n",
      "\t\t\tIs sepal_width >= 3.3?\n",
      "\t\t\tTrue Branch\n",
      "\t\t\t\tPredictions: {'setosa': 14, 'virginica': 3}\n",
      "\t\t\tFalse Branch\n",
      "\t\t\t\tPredictions: {'virginica': 1}\n",
      "\t\tFalse Branch\n",
      "\t\t\tPredictions: {'virginica': 1}\n",
      "\tFalse Branch\n",
      "\t\tPredictions: {'setosa': 6}\n",
      "\n",
      "Tree 5:\n",
      "\n",
      "Is petal_length >= 2.5?\n",
      "True Branch\n",
      "\tIs petal_length >= 4.6?\n",
      "\tTrue Branch\n",
      "\t\tIs sepal_length >= 6.8?\n",
      "\t\tTrue Branch\n",
      "\t\t\tIs petal_width >= 1.1?\n",
      "\t\t\tTrue Branch\n",
      "\t\t\t\tPredictions: {'virginica': 11}\n",
      "\t\t\tFalse Branch\n",
      "\t\t\t\tIs petal_width >= 1.0?\n",
      "\t\t\t\tTrue Branch\n",
      "\t\t\t\t\tPredictions: {'setosa': 1}\n",
      "\t\t\t\tFalse Branch\n",
      "\t\t\t\t\tPredictions: {'virginica': 4}\n",
      "\t\tFalse Branch\n",
      "\t\t\tIs sepal_length >= 6.4?\n",
      "\t\t\tTrue Branch\n",
      "\t\t\t\tPredictions: {'versicolor': 2}\n",
      "\t\t\tFalse Branch\n",
      "\t\t\t\tIs petal_length >= 4.9?\n",
      "\t\t\t\tTrue Branch\n",
      "\t\t\t\t\tPredictions: {'versicolor': 1, 'virginica': 20}\n",
      "\t\t\t\tFalse Branch\n",
      "\t\t\t\t\tPredictions: {'versicolor': 1, 'virginica': 1}\n",
      "\tFalse Branch\n",
      "\t\tIs petal_width >= 1.7?\n",
      "\t\tTrue Branch\n",
      "\t\t\tIs sepal_length >= 6.0?\n",
      "\t\t\tTrue Branch\n",
      "\t\t\t\tPredictions: {'virginica': 13}\n",
      "\t\t\tFalse Branch\n",
      "\t\t\t\tPredictions: {'versicolor': 4}\n",
      "\t\tFalse Branch\n",
      "\t\t\tPredictions: {'versicolor': 17}\n",
      "False Branch\n",
      "\tIs sepal_width >= 3.1?\n",
      "\tTrue Branch\n",
      "\t\tIs petal_length >= 1.2?\n",
      "\t\tTrue Branch\n",
      "\t\t\tIs sepal_width >= 3.3?\n",
      "\t\t\tTrue Branch\n",
      "\t\t\t\tIs sepal_length >= 5.2?\n",
      "\t\t\t\tTrue Branch\n",
      "\t\t\t\t\tPredictions: {'setosa': 10, 'virginica': 3}\n",
      "\t\t\t\tFalse Branch\n",
      "\t\t\t\t\tPredictions: {'setosa': 4}\n",
      "\t\t\tFalse Branch\n",
      "\t\t\t\tPredictions: {'virginica': 1}\n",
      "\t\tFalse Branch\n",
      "\t\t\tPredictions: {'virginica': 1}\n",
      "\tFalse Branch\n",
      "\t\tPredictions: {'setosa': 6}\n",
      "\n",
      "Tree 6:\n",
      "\n",
      "Is petal_length >= 2.5?\n",
      "True Branch\n",
      "\tIs petal_length >= 4.6?\n",
      "\tTrue Branch\n",
      "\t\tIs sepal_length >= 6.8?\n",
      "\t\tTrue Branch\n",
      "\t\t\tIs petal_width >= 1.1?\n",
      "\t\t\tTrue Branch\n",
      "\t\t\t\tPredictions: {'virginica': 11}\n",
      "\t\t\tFalse Branch\n",
      "\t\t\t\tIs petal_width >= 1.0?\n",
      "\t\t\t\tTrue Branch\n",
      "\t\t\t\t\tPredictions: {'setosa': 1}\n",
      "\t\t\t\tFalse Branch\n",
      "\t\t\t\t\tPredictions: {'virginica': 4}\n",
      "\t\tFalse Branch\n",
      "\t\t\tIs sepal_length >= 6.4?\n",
      "\t\t\tTrue Branch\n",
      "\t\t\t\tPredictions: {'versicolor': 2}\n",
      "\t\t\tFalse Branch\n",
      "\t\t\t\tIs petal_length >= 4.9?\n",
      "\t\t\t\tTrue Branch\n",
      "\t\t\t\t\tIs sepal_width >= 2.2?\n",
      "\t\t\t\t\tTrue Branch\n",
      "\t\t\t\t\t\tPredictions: {'virginica': 18}\n",
      "\t\t\t\t\tFalse Branch\n",
      "\t\t\t\t\t\tPredictions: {'versicolor': 1, 'virginica': 2}\n",
      "\t\t\t\tFalse Branch\n",
      "\t\t\t\t\tIs petal_width >= 2.4?\n",
      "\t\t\t\t\tTrue Branch\n",
      "\t\t\t\t\t\tPredictions: {'virginica': 1}\n",
      "\t\t\t\t\tFalse Branch\n",
      "\t\t\t\t\t\tPredictions: {'versicolor': 1}\n",
      "\tFalse Branch\n",
      "\t\tIs petal_width >= 1.7?\n",
      "\t\tTrue Branch\n",
      "\t\t\tIs sepal_length >= 6.0?\n",
      "\t\t\tTrue Branch\n",
      "\t\t\t\tPredictions: {'virginica': 13}\n",
      "\t\t\tFalse Branch\n",
      "\t\t\t\tPredictions: {'versicolor': 4}\n",
      "\t\tFalse Branch\n",
      "\t\t\tPredictions: {'versicolor': 17}\n",
      "False Branch\n",
      "\tIs sepal_width >= 3.1?\n",
      "\tTrue Branch\n",
      "\t\tIs petal_length >= 1.2?\n",
      "\t\tTrue Branch\n",
      "\t\t\tIs sepal_width >= 3.3?\n",
      "\t\t\tTrue Branch\n",
      "\t\t\t\tIs sepal_length >= 5.2?\n",
      "\t\t\t\tTrue Branch\n",
      "\t\t\t\t\tIs sepal_length >= 5.3?\n",
      "\t\t\t\t\tTrue Branch\n",
      "\t\t\t\t\t\tPredictions: {'setosa': 10, 'virginica': 2}\n",
      "\t\t\t\t\tFalse Branch\n",
      "\t\t\t\t\t\tPredictions: {'virginica': 1}\n",
      "\t\t\t\tFalse Branch\n",
      "\t\t\t\t\tPredictions: {'setosa': 4}\n",
      "\t\t\tFalse Branch\n",
      "\t\t\t\tPredictions: {'virginica': 1}\n",
      "\t\tFalse Branch\n",
      "\t\t\tPredictions: {'virginica': 1}\n",
      "\tFalse Branch\n",
      "\t\tPredictions: {'setosa': 6}\n",
      "\n",
      "Tree 7:\n",
      "\n",
      "Is petal_length >= 2.5?\n",
      "True Branch\n",
      "\tIs petal_length >= 4.6?\n",
      "\tTrue Branch\n",
      "\t\tIs sepal_length >= 6.8?\n",
      "\t\tTrue Branch\n",
      "\t\t\tIs petal_width >= 1.1?\n",
      "\t\t\tTrue Branch\n",
      "\t\t\t\tPredictions: {'virginica': 11}\n",
      "\t\t\tFalse Branch\n",
      "\t\t\t\tIs petal_width >= 1.0?\n",
      "\t\t\t\tTrue Branch\n",
      "\t\t\t\t\tPredictions: {'setosa': 1}\n",
      "\t\t\t\tFalse Branch\n",
      "\t\t\t\t\tPredictions: {'virginica': 4}\n",
      "\t\tFalse Branch\n",
      "\t\t\tIs sepal_length >= 6.4?\n",
      "\t\t\tTrue Branch\n",
      "\t\t\t\tPredictions: {'versicolor': 2}\n",
      "\t\t\tFalse Branch\n",
      "\t\t\t\tIs petal_length >= 4.9?\n",
      "\t\t\t\tTrue Branch\n",
      "\t\t\t\t\tIs sepal_width >= 2.2?\n",
      "\t\t\t\t\tTrue Branch\n",
      "\t\t\t\t\t\tPredictions: {'virginica': 18}\n",
      "\t\t\t\t\tFalse Branch\n",
      "\t\t\t\t\t\tIs petal_length >= 6.5?\n",
      "\t\t\t\t\t\tTrue Branch\n",
      "\t\t\t\t\t\t\tPredictions: {'versicolor': 1}\n",
      "\t\t\t\t\t\tFalse Branch\n",
      "\t\t\t\t\t\t\tPredictions: {'virginica': 2}\n",
      "\t\t\t\tFalse Branch\n",
      "\t\t\t\t\tIs petal_width >= 2.4?\n",
      "\t\t\t\t\tTrue Branch\n",
      "\t\t\t\t\t\tPredictions: {'virginica': 1}\n",
      "\t\t\t\t\tFalse Branch\n",
      "\t\t\t\t\t\tPredictions: {'versicolor': 1}\n",
      "\tFalse Branch\n",
      "\t\tIs petal_width >= 1.7?\n",
      "\t\tTrue Branch\n",
      "\t\t\tIs sepal_length >= 6.0?\n",
      "\t\t\tTrue Branch\n",
      "\t\t\t\tPredictions: {'virginica': 13}\n",
      "\t\t\tFalse Branch\n",
      "\t\t\t\tPredictions: {'versicolor': 4}\n",
      "\t\tFalse Branch\n",
      "\t\t\tPredictions: {'versicolor': 17}\n",
      "False Branch\n",
      "\tIs sepal_width >= 3.1?\n",
      "\tTrue Branch\n",
      "\t\tIs petal_length >= 1.2?\n",
      "\t\tTrue Branch\n",
      "\t\t\tIs sepal_width >= 3.3?\n",
      "\t\t\tTrue Branch\n",
      "\t\t\t\tIs sepal_length >= 5.2?\n",
      "\t\t\t\tTrue Branch\n",
      "\t\t\t\t\tIs sepal_length >= 5.3?\n",
      "\t\t\t\t\tTrue Branch\n",
      "\t\t\t\t\t\tIs petal_length >= 1.6?\n",
      "\t\t\t\t\t\tTrue Branch\n",
      "\t\t\t\t\t\t\tPredictions: {'setosa': 7}\n",
      "\t\t\t\t\t\tFalse Branch\n",
      "\t\t\t\t\t\t\tPredictions: {'setosa': 3, 'virginica': 2}\n",
      "\t\t\t\t\tFalse Branch\n",
      "\t\t\t\t\t\tPredictions: {'virginica': 1}\n",
      "\t\t\t\tFalse Branch\n",
      "\t\t\t\t\tPredictions: {'setosa': 4}\n",
      "\t\t\tFalse Branch\n",
      "\t\t\t\tPredictions: {'virginica': 1}\n",
      "\t\tFalse Branch\n",
      "\t\t\tPredictions: {'virginica': 1}\n",
      "\tFalse Branch\n",
      "\t\tPredictions: {'setosa': 6}\n",
      "\n",
      "Tree 8:\n",
      "\n",
      "Is petal_length >= 2.5?\n",
      "True Branch\n",
      "\tIs petal_length >= 4.6?\n",
      "\tTrue Branch\n",
      "\t\tIs sepal_length >= 6.8?\n",
      "\t\tTrue Branch\n",
      "\t\t\tIs petal_width >= 1.1?\n",
      "\t\t\tTrue Branch\n",
      "\t\t\t\tPredictions: {'virginica': 11}\n",
      "\t\t\tFalse Branch\n",
      "\t\t\t\tIs petal_width >= 1.0?\n",
      "\t\t\t\tTrue Branch\n",
      "\t\t\t\t\tPredictions: {'setosa': 1}\n",
      "\t\t\t\tFalse Branch\n",
      "\t\t\t\t\tPredictions: {'virginica': 4}\n",
      "\t\tFalse Branch\n",
      "\t\t\tIs sepal_length >= 6.4?\n",
      "\t\t\tTrue Branch\n",
      "\t\t\t\tPredictions: {'versicolor': 2}\n",
      "\t\t\tFalse Branch\n",
      "\t\t\t\tIs petal_length >= 4.9?\n",
      "\t\t\t\tTrue Branch\n",
      "\t\t\t\t\tIs sepal_width >= 2.2?\n",
      "\t\t\t\t\tTrue Branch\n",
      "\t\t\t\t\t\tPredictions: {'virginica': 18}\n",
      "\t\t\t\t\tFalse Branch\n",
      "\t\t\t\t\t\tIs petal_length >= 6.5?\n",
      "\t\t\t\t\t\tTrue Branch\n",
      "\t\t\t\t\t\t\tPredictions: {'versicolor': 1}\n",
      "\t\t\t\t\t\tFalse Branch\n",
      "\t\t\t\t\t\t\tPredictions: {'virginica': 2}\n",
      "\t\t\t\tFalse Branch\n",
      "\t\t\t\t\tIs petal_width >= 2.4?\n",
      "\t\t\t\t\tTrue Branch\n",
      "\t\t\t\t\t\tPredictions: {'virginica': 1}\n",
      "\t\t\t\t\tFalse Branch\n",
      "\t\t\t\t\t\tPredictions: {'versicolor': 1}\n",
      "\tFalse Branch\n",
      "\t\tIs petal_width >= 1.7?\n",
      "\t\tTrue Branch\n",
      "\t\t\tIs sepal_length >= 6.0?\n",
      "\t\t\tTrue Branch\n",
      "\t\t\t\tPredictions: {'virginica': 13}\n",
      "\t\t\tFalse Branch\n",
      "\t\t\t\tPredictions: {'versicolor': 4}\n",
      "\t\tFalse Branch\n",
      "\t\t\tPredictions: {'versicolor': 17}\n",
      "False Branch\n",
      "\tIs sepal_width >= 3.1?\n",
      "\tTrue Branch\n",
      "\t\tIs petal_length >= 1.2?\n",
      "\t\tTrue Branch\n",
      "\t\t\tIs sepal_width >= 3.3?\n",
      "\t\t\tTrue Branch\n",
      "\t\t\t\tIs sepal_length >= 5.2?\n",
      "\t\t\t\tTrue Branch\n",
      "\t\t\t\t\tIs sepal_length >= 5.3?\n",
      "\t\t\t\t\tTrue Branch\n",
      "\t\t\t\t\t\tIs petal_length >= 1.6?\n",
      "\t\t\t\t\t\tTrue Branch\n",
      "\t\t\t\t\t\t\tPredictions: {'setosa': 7}\n",
      "\t\t\t\t\t\tFalse Branch\n",
      "\t\t\t\t\t\t\tIs petal_width >= 2.0?\n",
      "\t\t\t\t\t\t\tTrue Branch\n",
      "\t\t\t\t\t\t\t\tPredictions: {'setosa': 2}\n",
      "\t\t\t\t\t\t\tFalse Branch\n",
      "\t\t\t\t\t\t\t\tPredictions: {'setosa': 1, 'virginica': 2}\n",
      "\t\t\t\t\tFalse Branch\n",
      "\t\t\t\t\t\tPredictions: {'virginica': 1}\n",
      "\t\t\t\tFalse Branch\n",
      "\t\t\t\t\tPredictions: {'setosa': 4}\n",
      "\t\t\tFalse Branch\n",
      "\t\t\t\tPredictions: {'virginica': 1}\n",
      "\t\tFalse Branch\n",
      "\t\t\tPredictions: {'virginica': 1}\n",
      "\tFalse Branch\n",
      "\t\tPredictions: {'setosa': 6}\n",
      "\n",
      "Tree 9:\n",
      "\n",
      "Is petal_length >= 2.5?\n",
      "True Branch\n",
      "\tIs petal_length >= 4.6?\n",
      "\tTrue Branch\n",
      "\t\tIs sepal_length >= 6.8?\n",
      "\t\tTrue Branch\n",
      "\t\t\tIs petal_width >= 1.1?\n",
      "\t\t\tTrue Branch\n",
      "\t\t\t\tPredictions: {'virginica': 11}\n",
      "\t\t\tFalse Branch\n",
      "\t\t\t\tIs petal_width >= 1.0?\n",
      "\t\t\t\tTrue Branch\n",
      "\t\t\t\t\tPredictions: {'setosa': 1}\n",
      "\t\t\t\tFalse Branch\n",
      "\t\t\t\t\tPredictions: {'virginica': 4}\n",
      "\t\tFalse Branch\n",
      "\t\t\tIs sepal_length >= 6.4?\n",
      "\t\t\tTrue Branch\n",
      "\t\t\t\tPredictions: {'versicolor': 2}\n",
      "\t\t\tFalse Branch\n",
      "\t\t\t\tIs petal_length >= 4.9?\n",
      "\t\t\t\tTrue Branch\n",
      "\t\t\t\t\tIs sepal_width >= 2.2?\n",
      "\t\t\t\t\tTrue Branch\n",
      "\t\t\t\t\t\tPredictions: {'virginica': 18}\n",
      "\t\t\t\t\tFalse Branch\n",
      "\t\t\t\t\t\tIs petal_length >= 6.5?\n",
      "\t\t\t\t\t\tTrue Branch\n",
      "\t\t\t\t\t\t\tPredictions: {'versicolor': 1}\n",
      "\t\t\t\t\t\tFalse Branch\n",
      "\t\t\t\t\t\t\tPredictions: {'virginica': 2}\n",
      "\t\t\t\tFalse Branch\n",
      "\t\t\t\t\tIs petal_width >= 2.4?\n",
      "\t\t\t\t\tTrue Branch\n",
      "\t\t\t\t\t\tPredictions: {'virginica': 1}\n",
      "\t\t\t\t\tFalse Branch\n",
      "\t\t\t\t\t\tPredictions: {'versicolor': 1}\n",
      "\tFalse Branch\n",
      "\t\tIs petal_width >= 1.7?\n",
      "\t\tTrue Branch\n",
      "\t\t\tIs sepal_length >= 6.0?\n",
      "\t\t\tTrue Branch\n",
      "\t\t\t\tPredictions: {'virginica': 13}\n",
      "\t\t\tFalse Branch\n",
      "\t\t\t\tPredictions: {'versicolor': 4}\n",
      "\t\tFalse Branch\n",
      "\t\t\tPredictions: {'versicolor': 17}\n",
      "False Branch\n",
      "\tIs sepal_width >= 3.1?\n",
      "\tTrue Branch\n",
      "\t\tIs petal_length >= 1.2?\n",
      "\t\tTrue Branch\n",
      "\t\t\tIs sepal_width >= 3.3?\n",
      "\t\t\tTrue Branch\n",
      "\t\t\t\tIs sepal_length >= 5.2?\n",
      "\t\t\t\tTrue Branch\n",
      "\t\t\t\t\tIs sepal_length >= 5.3?\n",
      "\t\t\t\t\tTrue Branch\n",
      "\t\t\t\t\t\tIs petal_length >= 1.6?\n",
      "\t\t\t\t\t\tTrue Branch\n",
      "\t\t\t\t\t\t\tPredictions: {'setosa': 7}\n",
      "\t\t\t\t\t\tFalse Branch\n",
      "\t\t\t\t\t\t\tIs petal_width >= 2.0?\n",
      "\t\t\t\t\t\t\tTrue Branch\n",
      "\t\t\t\t\t\t\t\tPredictions: {'setosa': 2}\n",
      "\t\t\t\t\t\t\tFalse Branch\n",
      "\t\t\t\t\t\t\t\tIs petal_width >= 1.0?\n",
      "\t\t\t\t\t\t\t\tTrue Branch\n",
      "\t\t\t\t\t\t\t\t\tPredictions: {'setosa': 1, 'virginica': 1}\n",
      "\t\t\t\t\t\t\t\tFalse Branch\n",
      "\t\t\t\t\t\t\t\t\tPredictions: {'virginica': 1}\n",
      "\t\t\t\t\tFalse Branch\n",
      "\t\t\t\t\t\tPredictions: {'virginica': 1}\n",
      "\t\t\t\tFalse Branch\n",
      "\t\t\t\t\tPredictions: {'setosa': 4}\n",
      "\t\t\tFalse Branch\n",
      "\t\t\t\tPredictions: {'virginica': 1}\n",
      "\t\tFalse Branch\n",
      "\t\t\tPredictions: {'virginica': 1}\n",
      "\tFalse Branch\n",
      "\t\tPredictions: {'setosa': 6}\n",
      "\n",
      "Tree 10:\n",
      "\n",
      "Is petal_length >= 2.5?\n",
      "True Branch\n",
      "\tIs petal_length >= 4.6?\n",
      "\tTrue Branch\n",
      "\t\tIs sepal_length >= 6.8?\n",
      "\t\tTrue Branch\n",
      "\t\t\tIs petal_width >= 1.1?\n",
      "\t\t\tTrue Branch\n",
      "\t\t\t\tPredictions: {'virginica': 11}\n",
      "\t\t\tFalse Branch\n",
      "\t\t\t\tIs petal_width >= 1.0?\n",
      "\t\t\t\tTrue Branch\n",
      "\t\t\t\t\tPredictions: {'setosa': 1}\n",
      "\t\t\t\tFalse Branch\n",
      "\t\t\t\t\tPredictions: {'virginica': 4}\n",
      "\t\tFalse Branch\n",
      "\t\t\tIs sepal_length >= 6.4?\n",
      "\t\t\tTrue Branch\n",
      "\t\t\t\tPredictions: {'versicolor': 2}\n",
      "\t\t\tFalse Branch\n",
      "\t\t\t\tIs petal_length >= 4.9?\n",
      "\t\t\t\tTrue Branch\n",
      "\t\t\t\t\tIs sepal_width >= 2.2?\n",
      "\t\t\t\t\tTrue Branch\n",
      "\t\t\t\t\t\tPredictions: {'virginica': 18}\n",
      "\t\t\t\t\tFalse Branch\n",
      "\t\t\t\t\t\tIs petal_length >= 6.5?\n",
      "\t\t\t\t\t\tTrue Branch\n",
      "\t\t\t\t\t\t\tPredictions: {'versicolor': 1}\n",
      "\t\t\t\t\t\tFalse Branch\n",
      "\t\t\t\t\t\t\tPredictions: {'virginica': 2}\n",
      "\t\t\t\tFalse Branch\n",
      "\t\t\t\t\tIs petal_width >= 2.4?\n",
      "\t\t\t\t\tTrue Branch\n",
      "\t\t\t\t\t\tPredictions: {'virginica': 1}\n",
      "\t\t\t\t\tFalse Branch\n",
      "\t\t\t\t\t\tPredictions: {'versicolor': 1}\n",
      "\tFalse Branch\n",
      "\t\tIs petal_width >= 1.7?\n",
      "\t\tTrue Branch\n",
      "\t\t\tIs sepal_length >= 6.0?\n",
      "\t\t\tTrue Branch\n",
      "\t\t\t\tPredictions: {'virginica': 13}\n",
      "\t\t\tFalse Branch\n",
      "\t\t\t\tPredictions: {'versicolor': 4}\n",
      "\t\tFalse Branch\n",
      "\t\t\tPredictions: {'versicolor': 17}\n",
      "False Branch\n",
      "\tIs sepal_width >= 3.1?\n",
      "\tTrue Branch\n",
      "\t\tIs petal_length >= 1.2?\n",
      "\t\tTrue Branch\n",
      "\t\t\tIs sepal_width >= 3.3?\n",
      "\t\t\tTrue Branch\n",
      "\t\t\t\tIs sepal_length >= 5.2?\n",
      "\t\t\t\tTrue Branch\n",
      "\t\t\t\t\tIs sepal_length >= 5.3?\n",
      "\t\t\t\t\tTrue Branch\n",
      "\t\t\t\t\t\tIs petal_length >= 1.6?\n",
      "\t\t\t\t\t\tTrue Branch\n",
      "\t\t\t\t\t\t\tPredictions: {'setosa': 7}\n",
      "\t\t\t\t\t\tFalse Branch\n",
      "\t\t\t\t\t\t\tIs petal_width >= 2.0?\n",
      "\t\t\t\t\t\t\tTrue Branch\n",
      "\t\t\t\t\t\t\t\tPredictions: {'setosa': 2}\n",
      "\t\t\t\t\t\t\tFalse Branch\n",
      "\t\t\t\t\t\t\t\tIs petal_width >= 1.0?\n",
      "\t\t\t\t\t\t\t\tTrue Branch\n",
      "\t\t\t\t\t\t\t\t\tIs petal_width >= 1.5?\n",
      "\t\t\t\t\t\t\t\t\tTrue Branch\n",
      "\t\t\t\t\t\t\t\t\t\tPredictions: {'virginica': 1}\n",
      "\t\t\t\t\t\t\t\t\tFalse Branch\n",
      "\t\t\t\t\t\t\t\t\t\tPredictions: {'setosa': 1}\n",
      "\t\t\t\t\t\t\t\tFalse Branch\n",
      "\t\t\t\t\t\t\t\t\tPredictions: {'virginica': 1}\n",
      "\t\t\t\t\tFalse Branch\n",
      "\t\t\t\t\t\tPredictions: {'virginica': 1}\n",
      "\t\t\t\tFalse Branch\n",
      "\t\t\t\t\tPredictions: {'setosa': 4}\n",
      "\t\t\tFalse Branch\n",
      "\t\t\t\tPredictions: {'virginica': 1}\n",
      "\t\tFalse Branch\n",
      "\t\t\tPredictions: {'virginica': 1}\n",
      "\tFalse Branch\n",
      "\t\tPredictions: {'setosa': 6}\n",
      "\n",
      "Tree 10 has a max depth of 10 and was the first tree to accuratley classify dataset A with 100% accuracy\n"
     ]
    },
    {
     "data": {
      "text/plain": [
       "10"
      ]
     },
     "execution_count": 26,
     "metadata": {},
     "output_type": "execute_result"
    }
   ],
   "source": [
    "get_highest_depth(my_data)"
   ]
  },
  {
   "cell_type": "code",
   "execution_count": 27,
   "metadata": {},
   "outputs": [],
   "source": [
    "import random as ra\n",
    " \n",
    "# Split a dataset into k folds with randomization of datapoints\n",
    "def k_fold_cross_validation_split(data, k):\n",
    "    split = list()\n",
    "    copy = list(data)\n",
    "    fold_size = int(len(data) / k)\n",
    "    for i in range(k):\n",
    "        fold = list()\n",
    "        while (fold_size > len(fold)):\n",
    "            index = ra.randrange(len(copy))\n",
    "            fold.append(copy.pop(index))\n",
    "        split.append(fold)\n",
    "    return split"
   ]
  },
  {
   "cell_type": "code",
   "execution_count": 28,
   "metadata": {},
   "outputs": [
    {
     "name": "stdout",
     "output_type": "stream",
     "text": [
      "[[array([5.7, 4.4, 6.6, 0.9, 2. ]), array([7.1, 2.6, 5.9, 2.1, 2. ]), array([6.4, 2.1, 6.6, 0.8, 1. ]), array([4.8, 4.2, 4.2, 0.7, 1. ]), array([6. , 4.1, 4. , 2. , 2. ]), array([6.8, 3.7, 3.9, 1.8, 2. ]), array([6.3, 3.2, 4.6, 2.4, 2. ]), array([6.2, 3.6, 1.4, 2.4, 0. ]), array([7.7, 3.1, 5.3, 0.3, 2. ]), array([6.1, 4.3, 2.7, 1.7, 2. ])], [array([4.9, 3.5, 3.6, 1.6, 1. ]), array([4.4, 4.1, 3.4, 1.8, 1. ]), array([5.2, 3.9, 4.3, 1.2, 1. ]), array([7.2, 3.8, 3.2, 0.4, 1. ]), array([6.5, 4. , 5.9, 2.3, 1. ]), array([4.5, 4.4, 5.4, 0.1, 2. ]), array([5. , 2.2, 6.8, 1.9, 2. ]), array([5.8, 4.1, 4.5, 0.1, 1. ]), array([7.2, 3.1, 3. , 0.3, 1. ]), array([7.7, 2.8, 5.8, 1. , 0. ])], [array([4.4, 4. , 6.6, 0.2, 2. ]), array([4.9, 4.4, 4.9, 1.9, 2. ]), array([6.6, 2.4, 4. , 1.4, 1. ]), array([5.8, 2. , 5.8, 0.4, 2. ]), array([5.5, 3.1, 5. , 2.3, 2. ]), array([6.1, 4.3, 6.5, 1.9, 2. ]), array([7.8, 4.2, 5.3, 1.9, 2. ]), array([6.8, 3.5, 6. , 0.3, 2. ]), array([7.8, 2.3, 1. , 0.8, 0. ]), array([5.9, 2.8, 3.1, 1.8, 1. ])], [array([5.1, 3. , 1.6, 1.5, 0. ]), array([4.8, 3.6, 6.8, 1.1, 2. ]), array([5.3, 4. , 4.7, 1.6, 1. ]), array([7.8, 2.6, 4.6, 2.2, 2. ]), array([7. , 2.1, 4.6, 2.4, 2. ]), array([6.2, 4. , 1.8, 2. , 0. ]), array([5. , 3.2, 4.3, 0.9, 1. ]), array([5.8, 3.1, 6.8, 0.6, 2. ]), array([7.5, 3.4, 4.9, 2.5, 2. ]), array([6.4, 3.6, 3. , 2.2, 2. ])], [array([4.8, 3.1, 1.8, 0.7, 2. ]), array([7.3, 4.2, 3.5, 1.2, 1. ]), array([6. , 3.3, 5.2, 2. , 2. ]), array([6.2, 2.8, 3.6, 2.2, 2. ]), array([4.6, 3.3, 1.5, 0.7, 0. ]), array([5.5, 3. , 4.5, 1.2, 1. ]), array([6.8, 3. , 2.8, 0.3, 1. ]), array([4.6, 3.1, 6. , 1.8, 2. ]), array([7.7, 3.8, 3.5, 2.4, 2. ]), array([6.4, 4.1, 2.5, 0.8, 1. ])], [array([6.1, 2.6, 5.5, 2. , 2. ]), array([6.9, 3.9, 6.4, 0.7, 2. ]), array([7.5, 3.2, 4.3, 1.6, 1. ]), array([4.5, 2.7, 4.3, 0.8, 1. ]), array([5. , 4. , 4.4, 2.5, 1. ]), array([5.9, 2.7, 5.6, 0.5, 2. ]), array([6.6, 2.2, 3.3, 2.2, 2. ]), array([7.1, 4. , 2.4, 1.8, 0. ]), array([4.7, 2.8, 3.1, 0.9, 1. ]), array([6.2, 3. , 3.5, 2.4, 2. ])], [array([7.1, 3.2, 2.6, 2.4, 2. ]), array([5.4, 4.1, 1.1, 0.8, 2. ]), array([5.5, 2.6, 2.8, 0.8, 1. ]), array([6.1, 3.2, 4.2, 1.9, 2. ]), array([5.1, 4.3, 1.3, 1.2, 0. ]), array([4.9, 3. , 2. , 1.5, 0. ]), array([5.1, 2.4, 2. , 2.1, 0. ]), array([5.6, 4.3, 1.3, 0.3, 2. ]), array([6.6, 3.7, 2.7, 2.5, 2. ]), array([4.9, 3. , 5.6, 1.8, 2. ])], [array([5.2, 3.9, 2.2, 2.3, 2. ]), array([4.7, 2.4, 2.8, 1.8, 1. ]), array([5.5, 2.1, 6.5, 1.6, 1. ]), array([7.4, 3.3, 2.3, 0.1, 0. ]), array([5.3, 2.7, 2.5, 1.5, 1. ]), array([4.6, 3.3, 5.2, 0.3, 2. ]), array([5.1, 4. , 1.8, 0.8, 0. ]), array([6.1, 2.9, 5.1, 0.6, 2. ]), array([6.9, 3.3, 1.5, 1.5, 2. ]), array([6.8, 2. , 6.5, 2.5, 2. ])], [array([5.6, 3.5, 5. , 2.5, 2. ]), array([7.5, 4.2, 2.9, 1.8, 2. ]), array([6. , 3.9, 3.9, 1.8, 2. ]), array([6. , 2.1, 6.1, 2.3, 2. ]), array([7.5, 3.9, 1.6, 0.8, 0. ]), array([7.7, 3.9, 6.7, 1.6, 2. ]), array([5.3, 4.3, 1.9, 1.6, 0. ]), array([7. , 2.6, 5.7, 0.3, 2. ]), array([7.3, 4.3, 5.9, 2.1, 2. ]), array([4.4, 2.9, 1.8, 1.6, 0. ])], [array([6.8, 3. , 1.9, 2.2, 0. ]), array([6.4, 3.4, 1.4, 1. , 0. ]), array([4.6, 3.8, 1.3, 0.8, 0. ]), array([7.3, 3.3, 6.6, 1.1, 2. ]), array([5.4, 3.7, 6. , 0.9, 2. ]), array([5.5, 4.3, 1.8, 0.3, 0. ]), array([6.9, 2.1, 6.2, 1.8, 2. ]), array([7.2, 3.3, 1.2, 2. , 0. ]), array([7.6, 3.5, 5.2, 1.6, 2. ]), array([5.5, 4.3, 1.8, 0.6, 0. ])]]\n"
     ]
    }
   ],
   "source": [
    "split = k_fold_cross_validation_split(my_data, 10)\n",
    "print(split)"
   ]
  },
  {
   "cell_type": "code",
   "execution_count": 29,
   "metadata": {},
   "outputs": [],
   "source": [
    "import matplotlib.pyplot as plt\n",
    "\n",
    "def plot_help(A, xlabel, ylabel):\n",
    "    n = len(A)\n",
    "    max_score = 0\n",
    "    max_score_pos = 0\n",
    "    z_scores = []\n",
    "    for i in range(n):\n",
    "        z = A[i]/n\n",
    "        z_scores.append(z)\n",
    "        if(z > max_score):\n",
    "            max_score_pos = i\n",
    "            max_score = z\n",
    "    plt.plot(A)\n",
    "    plt.ylabel(ylabel)\n",
    "    plt.xlabel(xlabel)\n",
    "    plt.show()\n",
    "    return max_score_pos"
   ]
  },
  {
   "cell_type": "code",
   "execution_count": 30,
   "metadata": {},
   "outputs": [],
   "source": [
    "# this function will use k-fold cross validation to determine which depth \n",
    "#  to use to obtain the best accuracy for new data.\n",
    "\n",
    "def k_fold_cross_val(data, k):\n",
    "    # First we split the data into 10 equal subsets.\n",
    "    split = k_fold_cross_validation_split(data, k)\n",
    "    # For each pre-specified maximum depth, do\n",
    "    scores_train = []\n",
    "    scores_val = []\n",
    "    for depth in range(get_highest_depth_no_print(data)):\n",
    "        score_train = 0\n",
    "        score_val = 0\n",
    "        # Perform 10 rounds of learning.\n",
    "        # On each round, 1/10 of the data is held out as \n",
    "        #   a validation set and the remaining examples\n",
    "        #   are used as training data.\n",
    "        for i in range(k):\n",
    "            train = []\n",
    "            validation = []\n",
    "            for j in range(k):\n",
    "                if(j == i):\n",
    "                    validation = split[j]\n",
    "                else:\n",
    "                    train += split[j]\n",
    "            train = np.array(train)\n",
    "            validation = np.array(validation)\n",
    "            # 4 Gernerate tree\n",
    "            t = ID3_mod(train, depth)\n",
    "            score_train += score_points(t, train)\n",
    "            score_val += score_points(t, validation)\n",
    "        scores_train.append(score_train)\n",
    "        scores_val.append(score_val)    \n",
    "    max_score_pos_train = plot_help(scores_train, \"Depth\",\n",
    "                                    \"Average Prediction Accuracies on Training Sets\")\n",
    "    max_score_pos_val = plot_help(scores_val, \"Depth\", \n",
    "                                  \"Average Prediction Accuracies on Validation Sets\")\n",
    "    \n",
    "    # retrun the depths of maximum accuracy for training and validation sets\n",
    "    return max_score_pos_val"
   ]
  },
  {
   "cell_type": "code",
   "execution_count": 31,
   "metadata": {},
   "outputs": [
    {
     "data": {
      "image/png": "[encoded data removed]",
      "text/plain": [
       "<Figure size 432x288 with 1 Axes>"
      ]
     },
     "metadata": {
      "needs_background": "light"
     },
     "output_type": "display_data"
    },
    {
     "data": {
      "image/png": "[encoded data removed]",
      "text/plain": [
       "<Figure size 432x288 with 1 Axes>"
      ]
     },
     "metadata": {
      "needs_background": "light"
     },
     "output_type": "display_data"
    },
    {
     "data": {
      "text/plain": [
       "4"
      ]
     },
     "execution_count": 31,
     "metadata": {},
     "output_type": "execute_result"
    }
   ],
   "source": [
    "k_fold_cross_val(my_data, 10)"
   ]
  },
  {
   "cell_type": "raw",
   "metadata": {},
   "source": [
    "Here we return the depth at which we obtain the maximum depth with the highest\n",
    "average prediction accuracy for both the training and validation sets.  It seems as if accuracy approachs 100 % on the training set as we increase depth, but the trend is not the same for the validation set.  This is indicitive of over fitting, if we depth is to high."
   ]
  },
  {
   "cell_type": "raw",
   "metadata": {},
   "source": [
    "NOTE:  there is some randomness on how the train test splits are generated.  this can lead to differnt values for max_score_pos_val each time cross_val is called."
   ]
  },
  {
   "cell_type": "code",
   "execution_count": 32,
   "metadata": {},
   "outputs": [],
   "source": [
    "# now we will generate the tree using our maxdepth.  This fucntion returns the best tree\n",
    "\n",
    "def best_tree(data):\n",
    "    # use cross validation to determine best depth\n",
    "    print(\"Cross Validation Printing:\")\n",
    "    depth = k_fold_cross_val(data, 10)\n",
    "    # construct tree\n",
    "    tree = ID3_mod(data, depth)\n",
    "    print(\"Best Tree:\\n\")\n",
    "    tree_print(tree)\n",
    "    print(\"\\n Predicion Accuracy Of Tree on Dataset A : \"\n",
    "         + str(score_points(tree, data)))\n",
    "    return tree\n",
    "    \n",
    "    \n",
    "    "
   ]
  },
  {
   "cell_type": "code",
   "execution_count": 33,
   "metadata": {},
   "outputs": [
    {
     "name": "stdout",
     "output_type": "stream",
     "text": [
      "Cross Validation Printing:\n"
     ]
    },
    {
     "data": {
      "image/png": "[encoded data removed]",
      "text/plain": [
       "<Figure size 432x288 with 1 Axes>"
      ]
     },
     "metadata": {
      "needs_background": "light"
     },
     "output_type": "display_data"
    },
    {
     "data": {
      "image/png": "[encoded data removed]",
      "text/plain": [
       "<Figure size 432x288 with 1 Axes>"
      ]
     },
     "metadata": {
      "needs_background": "light"
     },
     "output_type": "display_data"
    },
    {
     "name": "stdout",
     "output_type": "stream",
     "text": [
      "Best Tree:\n",
      "\n",
      "Is petal_length >= 2.5?\n",
      "True Branch\n",
      "\tIs petal_length >= 4.6?\n",
      "\tTrue Branch\n",
      "\t\tIs sepal_length >= 6.8?\n",
      "\t\tTrue Branch\n",
      "\t\t\tIs petal_width >= 1.1?\n",
      "\t\t\tTrue Branch\n",
      "\t\t\t\tPredictions: {'virginica': 11}\n",
      "\t\t\tFalse Branch\n",
      "\t\t\t\tPredictions: {'setosa': 1, 'virginica': 4}\n",
      "\t\tFalse Branch\n",
      "\t\t\tIs sepal_length >= 6.4?\n",
      "\t\t\tTrue Branch\n",
      "\t\t\t\tPredictions: {'versicolor': 2}\n",
      "\t\t\tFalse Branch\n",
      "\t\t\t\tPredictions: {'versicolor': 2, 'virginica': 21}\n",
      "\tFalse Branch\n",
      "\t\tIs petal_width >= 1.7?\n",
      "\t\tTrue Branch\n",
      "\t\t\tIs sepal_length >= 6.0?\n",
      "\t\t\tTrue Branch\n",
      "\t\t\t\tPredictions: {'virginica': 13}\n",
      "\t\t\tFalse Branch\n",
      "\t\t\t\tPredictions: {'versicolor': 4}\n",
      "\t\tFalse Branch\n",
      "\t\t\tPredictions: {'versicolor': 17}\n",
      "False Branch\n",
      "\tIs sepal_width >= 3.1?\n",
      "\tTrue Branch\n",
      "\t\tIs petal_length >= 1.2?\n",
      "\t\tTrue Branch\n",
      "\t\t\tIs sepal_width >= 3.3?\n",
      "\t\t\tTrue Branch\n",
      "\t\t\t\tPredictions: {'setosa': 14, 'virginica': 3}\n",
      "\t\t\tFalse Branch\n",
      "\t\t\t\tPredictions: {'virginica': 1}\n",
      "\t\tFalse Branch\n",
      "\t\t\tPredictions: {'virginica': 1}\n",
      "\tFalse Branch\n",
      "\t\tPredictions: {'setosa': 6}\n",
      "\n",
      " Predicion Accuracy Of Tree on Dataset A : 0.94\n"
     ]
    },
    {
     "data": {
      "text/plain": [
       "<__main__.Node at 0x29d1e302a20>"
      ]
     },
     "execution_count": 33,
     "metadata": {},
     "output_type": "execute_result"
    }
   ],
   "source": [
    "best_tree(my_data)"
   ]
  },
  {
   "cell_type": "code",
   "execution_count": 34,
   "metadata": {},
   "outputs": [],
   "source": [
    "# Q3\n",
    "\n",
    "# please add data set b to this directory, \n",
    "#  and feed the filename to the following function\n",
    "\n",
    "def Q3(file):\n",
    "    t = best_tree(my_data)\n",
    "    new_data = np.genfromtxt(file, delimiter = ',')\n",
    "    print(\"\\n Predicion Accuracy Of Tree on Dataset B : \"\n",
    "         + str(score_points(tree, new_data)))"
   ]
  },
  {
   "cell_type": "code",
   "execution_count": 35,
   "metadata": {},
   "outputs": [
    {
     "name": "stdout",
     "output_type": "stream",
     "text": [
      "Cross Validation Printing:\n"
     ]
    },
    {
     "data": {
      "image/png": "[encoded data removed]",
      "text/plain": [
       "<Figure size 432x288 with 1 Axes>"
      ]
     },
     "metadata": {
      "needs_background": "light"
     },
     "output_type": "display_data"
    },
    {
     "data": {
      "image/png": "[encoded data removed]",
      "text/plain": [
       "<Figure size 432x288 with 1 Axes>"
      ]
     },
     "metadata": {
      "needs_background": "light"
     },
     "output_type": "display_data"
    },
    {
     "name": "stdout",
     "output_type": "stream",
     "text": [
      "Best Tree:\n",
      "\n",
      "Is petal_length >= 2.5?\n",
      "True Branch\n",
      "\tIs petal_length >= 4.6?\n",
      "\tTrue Branch\n",
      "\t\tIs sepal_length >= 6.8?\n",
      "\t\tTrue Branch\n",
      "\t\t\tPredictions: {'setosa': 1, 'virginica': 15}\n",
      "\t\tFalse Branch\n",
      "\t\t\tPredictions: {'versicolor': 4, 'virginica': 21}\n",
      "\tFalse Branch\n",
      "\t\tIs petal_width >= 1.7?\n",
      "\t\tTrue Branch\n",
      "\t\t\tPredictions: {'versicolor': 4, 'virginica': 13}\n",
      "\t\tFalse Branch\n",
      "\t\t\tPredictions: {'versicolor': 17}\n",
      "False Branch\n",
      "\tIs sepal_width >= 3.1?\n",
      "\tTrue Branch\n",
      "\t\tIs petal_length >= 1.2?\n",
      "\t\tTrue Branch\n",
      "\t\t\tPredictions: {'setosa': 14, 'virginica': 4}\n",
      "\t\tFalse Branch\n",
      "\t\t\tPredictions: {'virginica': 1}\n",
      "\tFalse Branch\n",
      "\t\tPredictions: {'setosa': 6}\n",
      "\n",
      " Predicion Accuracy Of Tree on Dataset A : 0.87\n",
      "\n",
      " Predicion Accuracy Of Tree on Dataset B : 1.0\n"
     ]
    }
   ],
   "source": [
    "# ex.\n",
    "Q3('set_a.csv')"
   ]
  }
 ],
 "metadata": {
  "kernelspec": {
   "display_name": "Python 3",
   "language": "python",
   "name": "python3"
  },
  "language_info": {
   "codemirror_mode": {
    "name": "ipython",
    "version": 3
   },
   "file_extension": ".py",
   "mimetype": "text/x-python",
   "name": "python",
   "nbconvert_exporter": "python",
   "pygments_lexer": "ipython3",
   "version": "3.6.8"
  }
 },
 "nbformat": 4,
 "nbformat_minor": 2
}
