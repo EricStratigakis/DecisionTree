{
 "cells": [
  {
   "cell_type": "raw",
   "metadata": {},
   "source": [
    "U_3 = U_2(-0.05 + max ((s_23*0.8 + s_14*0.1 + s_12*0.1),\n",
    "                       (s_14*0.8 + s_13*0.1 + s_23*0.1), \n",
    "                       (s_12*0.8 + s_13*0.1 + s_23*0.1), \n",
    "                       (s_13*0.8 + s_12*0.1 + s_14*0.1)))\n",
    "    = -0.1 + max(0.24, -0.145, -0.145, -0.2) \n",
    "    = 0.14"
   ]
  },
  {
   "cell_type": "raw",
   "metadata": {},
   "source": [
    "Note: * represents highlighted"
   ]
  },
  {
   "cell_type": "raw",
   "metadata": {},
   "source": [
    "Iteration 1:\n",
    "\n",
    "Utilities:\n",
    "\n",
    "    0\t0\t0\t0\n",
    "    0\tx\t0\t-1\n",
    "    0\t0\t0\t1\n",
    "\n",
    "Optimal Policies:\n",
    "\n",
    "    DR\tLR\tDRL\tL\n",
    "    UD\tx\tUD\t-1\n",
    "    UR\tLR\tUL\t1"
   ]
  },
  {
   "cell_type": "raw",
   "metadata": {},
   "source": [
    "Iteration 2:\n",
    "\n",
    "Utilities:\n",
    "\n",
    "    -0.05\t-0.05\t-0.05\t-0.05\n",
    "    -0.05\t  x\t    -0.05\t-1\n",
    "    -0.05\t-0.05\t0.75\t 1\n",
    "    \n",
    "Optimal Policies:\n",
    "\n",
    "    DR\tLR\tDRL\tL\n",
    "    UD\tx\tD*\t-1\n",
    "    UR\tR*\tUL\t1"
   ]
  },
  {
   "cell_type": "raw",
   "metadata": {},
   "source": [
    "Iteration 3:\n",
    "\n",
    "Utilities:\n",
    "\n",
    "    -0.1\t-0.1\t-0.1\t-0.1\n",
    "    -0.1\t   x\t 0.45\t-1\n",
    "    -0.1\t0.54\t0.82\t1\n",
    "\n",
    "Optimal Policies:\n",
    "\n",
    "    DR\tLR\tLR*\tL\n",
    "    UD\tx\tD\t-1\n",
    "    R*\tR\tL*\t1"
   ]
  },
  {
   "cell_type": "raw",
   "metadata": {},
   "source": [
    "Iteration 4:\n",
    "\n",
    "Utilities:\n",
    "\n",
    "    -0.15\t-0.15\t0.286\t-0.2\n",
    "    -0.15\t   x\t0.551\t-1\n",
    "    0.362\t0.714\t0.877\t1\n",
    "\n",
    "Optimal Policies:\n",
    "\n",
    "    DR\tR*\tLR\tL\n",
    "    D*\tx\tD\t-1\n",
    "    R\tR\tL\t1"
   ]
  },
  {
   "cell_type": "raw",
   "metadata": {},
   "source": [
    "Iteration 5:\n",
    "\n",
    "Utilities:\n",
    "\n",
    "    -0.2\t0.149\t0.3604\t0.064\n",
    "    0.2096\t   x\t0.6063\t-1\n",
    "    0.5424\t0.794\t0.8927\t1\n",
    "\n",
    "Optimal Policies:\n",
    "\n",
    "    D*\tR\tD*\tL\n",
    "    D\tx\tD\t-1\n",
    "    R\tR\tL\t1"
   ]
  },
  {
   "cell_type": "raw",
   "metadata": {},
   "source": [
    "Iteration 6:\n",
    "\n",
    "Utilities:\n",
    "\n",
    "    0.11256\t0.26808\t0.45626\t0.1447\n",
    "    0.42584\t   x\t0.62479\t-1\n",
    "    0.6604\t0.82296\t0.8999\t1\n",
    "\n",
    "Optimal Policies:\n",
    "\n",
    "    D\tR\tD\tL\n",
    "    D\tx\tD\t-1\n",
    "    R\tR\tL\t1"
   ]
  },
  {
   "cell_type": "raw",
   "metadata": {},
   "source": [
    "Iteration 7:\n",
    "\n",
    "Utilities:\n",
    "\n",
    "    0.328736\t0.368624\t0.491106\t0.229478\n",
    "    0.563488\t   x\t    0.632395\t-1\n",
    "    0.716992\t0.834508\t0.902468\t1\n",
    "\n",
    "Optimal Policies:\n",
    "\n",
    "    D\tR\tD\tL\n",
    "    D\tx\tD\t-1\n",
    "    R\tR\tL\t1"
   ]
  },
  {
   "cell_type": "raw",
   "metadata": {},
   "source": [
    "Iteration 8:\n",
    "\n",
    "Utilities:\n",
    "\n",
    "    0.4705264\t0.4166096\t0.5157258\t0.265833\n",
    "    0.6362912\t   x\t    0.6352139\t-1\n",
    "    0.7456544\t0.838876\t0.9034863\t1\n",
    "\n",
    "Optimal Policies:\n",
    "\n",
    "    D\tR\tD\tL\n",
    "    D\tx\tD\t-1\n",
    "    R\tR\tL\t1"
   ]
  },
  {
   "cell_type": "raw",
   "metadata": {},
   "source": [
    "Iteration 9:\n",
    "\n",
    "Utilities:\n",
    "\n",
    "    0.54774656\t0.44590256\t0.5264153\t0.2891639\n",
    "    0.67378176\t   x\t    0.63631039\t-1\n",
    "    0.75929536\t0.8405642\t0.90387001\t1\n",
    "\n",
    "Optimal Policies:\n",
    "\n",
    "    D\tL*\tD\tL\n",
    "    D\tx\tD\t-1\n",
    "    R\tR\tL\t1"
   ]
  },
  {
   "cell_type": "raw",
   "metadata": {},
   "source": [
    "Iteration 10:\n",
    "\n",
    "Utilities:\n",
    "\n",
    "    0.58839032\t0.47737776\t0.532554954\t0.30004863\n",
    "    0.69219264\t   x\t    0.636727047\t-1\n",
    "    0.765759072\t0.841208848\t0.90401804\t1\n",
    "\n",
    "Optimal Policies:\n",
    "\n",
    "    D\tL\tD\tL\n",
    "    D\tx\tD\t-1\n",
    "    R\tR\tL\t1"
   ]
  },
  {
   "cell_type": "raw",
   "metadata": {},
   "source": [
    "Iteration 11:\n",
    "\n",
    "Utilities:\n",
    "\n",
    "    0.61033092\t0.516187808\t0.537124276\t0.306048826\n",
    "    0.701045786\tx\t0.636887136\t-1\n",
    "    0.76876225\t0.841456201\t0.904074509\t1\n",
    "\n",
    "Optimal Policies:\n",
    "\n",
    "    D\tL\tD\tL\n",
    "    D\tx\tD\t-1\n",
    "    R\tR\tL\t1"
   ]
  },
  {
   "cell_type": "raw",
   "metadata": {},
   "source": [
    "U3(S13) = U2(s13 + max ((s23*0.8 + s14*0.1 + s12*0.1), \n",
    "                        (s14*0.8 + s13*0.1 + s23*0.1),\n",
    "                        (s12*0.8 + s13*0.1 + s23*0.1), \n",
    "                        s13*0.8 + s12*0.1 + s14*0.1)\n",
    "        = -0.05 + max(0.336, -0.0455, -0.455, -0.1) \n",
    "        = 0.286 "
   ]
  },
  {
   "cell_type": "raw",
   "metadata": {},
   "source": [
    "Iteration 1:\n",
    "\n",
    "Utilities:\n",
    "\n",
    "    0\t0\t0\t0\n",
    "    0\tx\t0\t-1\n",
    "    0\t0\t0\t1\n",
    "\n",
    "Optimal Policies:\n",
    "\n",
    "    DR\tLR\tDRL\tL\n",
    "    UD\tx\tUD\t-1\n",
    "    UR\tLR\tUL\t1"
   ]
  },
  {
   "cell_type": "raw",
   "metadata": {},
   "source": [
    "Iteration 2:\n",
    "\n",
    "Utilities:\n",
    "\n",
    "    -0.1\t-0.1\t-0.1\t-0.1\n",
    "    -0.1\t   x\t-0.1\t-1\n",
    "    -0.1\t-0.1\t0.7\t     1\n",
    "\n",
    "\n",
    "Optimal Policies:\n",
    "\n",
    "    DR\tLR\tDRL\tL\n",
    "    UD\tx\tD*\t-1\n",
    "    UR\tR*\tUL\t1"
   ]
  },
  {
   "cell_type": "raw",
   "metadata": {},
   "source": [
    "Iteration 3:\n",
    "\n",
    "Utilities:\n",
    "\n",
    "    -0.2\t-0.2\t-0.2\t-0.2\n",
    "    -0.2\t   x\t0.35\t-1\n",
    "    -0.2\t0.44\t0.76\t1\n",
    "\n",
    "Optimal Policies:\n",
    "\n",
    "    DR\tLR\tLR*\tL\n",
    "    UD\tx\tD\t-1\n",
    "    R\tR\tL*\t1"
   ]
  },
  {
   "cell_type": "raw",
   "metadata": {},
   "source": [
    "Iteration 4:\n",
    "\n",
    "Utilities:\n",
    "\n",
    "    -0.3\t-0.3\t0.14\t-0.3\n",
    "    -0.3\t   x\t0.443\t-1\n",
    "    0.212\t0.596\t0.811\t1\n",
    "\n",
    "Optimal Policies:\n",
    "\n",
    "    DR\tR*\tLR\tL\n",
    "    D*\tx\tD\t-1\n",
    "    R\tR\tL\t1"
   ]
  },
  {
   "cell_type": "raw",
   "metadata": {},
   "source": [
    "Iteration 5:\n",
    "\n",
    "Utilities:\n",
    "\n",
    "    -0.4\t-0.048\t0.1944\t-0.118\n",
    "    0.0096\tx\t0.4931\t-1\n",
    "    0.368\t0.668\t0.8254\t1\n",
    "\n",
    "Optimal Policies:\n",
    "\n",
    "    D*\tR\tD*\tL\n",
    "    D\tx\tD\t-1\n",
    "    R\tR\tL\t1"
   ]
  },
  {
   "cell_type": "raw",
   "metadata": {},
   "source": [
    "Iteration 6:\n",
    "\n",
    "Utilities:\n",
    "\n",
    "    -0.13712\t0.04592\t0.27788\t -0.05628\n",
    "    0.19632\t       x\t0.50963\t -1\n",
    "    0.47216     0.69392\t0.83185\t 1\n",
    "\n",
    "Optimal Policies:\n",
    "\n",
    "    D\tR\tD\tL\n",
    "    D\tx\tD\t-1\n",
    "    R\tR\tL\t1"
   ]
  },
  {
   "cell_type": "raw",
   "metadata": {},
   "source": [
    "Iteration 7:\n",
    "\n",
    "Utilities:\n",
    "\n",
    "    0.047936\t0.131488\t0.306668\t0.016676\n",
    "    0.316992\tx\t0.516443\t-1\n",
    "    0.521984\t0.704264\t0.834148\t1\n",
    "\n",
    "Optimal Policies:\n",
    "\n",
    "    D\tR\tD\tL\n",
    "    D\tx\tD\t-1\n",
    "    R\tR\tL\t1"
   ]
  },
  {
   "cell_type": "raw",
   "metadata": {},
   "source": [
    "Iteration 8:\n",
    "\n",
    "Utilities:\n",
    "\n",
    "    0.171536\t0.171632\t0.3279708\t0.047002\n",
    "    0.3809856\tx\t0.5189627\t-1\n",
    "    0.5473088\t0.7081712\t0.8350591\t1\n",
    "\n",
    "Optimal Policies:\n",
    "\n",
    "    D\tR\tD\tL\n",
    "    D\tx\tD\t-1\n",
    "    R\tR\tL\t1"
   ]
  },
  {
   "cell_type": "raw",
   "metadata": {},
   "source": [
    "Iteration 9:\n",
    "\n",
    "Utilities:\n",
    "\n",
    "    0.23910528\t0.19670304\t0.33703356\t0.06707684\n",
    "    0.41404416\t       x\t0.51994355\t-1\n",
    "    0.5593664\t0.70968152\t0.83540218\t1\n",
    "\n",
    "Optimal Policies:\n",
    "\n",
    "    D\tR\tD\tL\n",
    "    D\tx\tD\t-1\n",
    "    R\tR\tL\t1"
   ]
  },
  {
   "cell_type": "raw",
   "metadata": {},
   "source": [
    "Iteration 10:\n",
    "\n",
    "Utilities:\n",
    "\n",
    "    0.27481616\t0.208967456\t0.342332828\t0.076334532\n",
    "    0.430301952\t       x\t0.520316099\t-1\n",
    "    0.565086272\t0.710258048\t0.835534573\t1\n",
    "\n",
    "Optimal Policies:\n",
    "\n",
    "    D\tR\tD\tL\n",
    "    D\tx\tD\t-1\n",
    "    R\tR\tL\t1"
   ]
  },
  {
   "cell_type": "raw",
   "metadata": {},
   "source": [
    "Iteration 11:\n",
    "\n",
    "Utilities:\n",
    "\n",
    "    0.292619923\t0.215659754\t0.344783078\t0.081499716\n",
    "    0.438129408\t       x\t0.520459268\t-1\n",
    "    0.567745261\t0.710479268\t0.835585067\t1\n",
    "\n",
    "\n",
    "Optimal Policies:\n",
    "\n",
    "    D\tR\tD\tL\n",
    "    D\tx\tD\t-1\n",
    "    R\tR\tL\t1"
   ]
  },
  {
   "cell_type": "raw",
   "metadata": {},
   "source": [
    "The only difference is S_12,\n",
    "\n",
    "R(s) = -0.05 => optimal policy is L\n",
    "R(s) = -0.1  => optimal policy is R\n",
    "\n",
    "Since the punishment per move in R(s) = -0.1 is higher, so it makes sense that we try harder to get to the end.  It is better to be more \"risky\" to endure less pain in the world."
   ]
  },
  {
   "cell_type": "raw",
   "metadata": {},
   "source": [
    "They are both the same. \n",
    "Optimal policy:\n",
    "    D\tL\tD\tL\n",
    "    D\tx\tD\t-1\n",
    "    R\tR\tL\t1\n"
   ]
  }
 ],
 "metadata": {
  "kernelspec": {
   "display_name": "Python 3",
   "language": "python",
   "name": "python3"
  },
  "language_info": {
   "codemirror_mode": {
    "name": "ipython",
    "version": 3
   },
   "file_extension": ".py",
   "mimetype": "text/x-python",
   "name": "python",
   "nbconvert_exporter": "python",
   "pygments_lexer": "ipython3",
   "version": "3.7.0"
  }
 },
 "nbformat": 4,
 "nbformat_minor": 2
}
